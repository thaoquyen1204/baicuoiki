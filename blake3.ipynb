{
  "nbformat": 4,
  "nbformat_minor": 0,
  "metadata": {
    "colab": {
      "provenance": []
    },
    "kernelspec": {
      "name": "python3",
      "display_name": "Python 3"
    },
    "language_info": {
      "name": "python"
    }
  },
  "cells": [
    {
      "cell_type": "code",
      "execution_count": null,
      "metadata": {
        "colab": {
          "base_uri": "https://localhost:8080/"
        },
        "id": "hjz2by4s-zfF",
        "outputId": "d370fc14-1692-4e7a-d9aa-ff3ae71c5e51"
      },
      "outputs": [
        {
          "output_type": "stream",
          "name": "stdout",
          "text": [
            "Collecting sqlalchemy==1.3.23\n",
            "  Downloading SQLAlchemy-1.3.23.tar.gz (6.3 MB)\n",
            "\u001b[2K     \u001b[90m━━━━━━━━━━━━━━━━━━━━━━━━━━━━━━━━━━━━━━━━\u001b[0m \u001b[32m6.3/6.3 MB\u001b[0m \u001b[31m26.0 MB/s\u001b[0m eta \u001b[36m0:00:00\u001b[0m\n",
            "\u001b[?25h  Preparing metadata (setup.py) ... \u001b[?25l\u001b[?25hdone\n",
            "Building wheels for collected packages: sqlalchemy\n",
            "  Building wheel for sqlalchemy (setup.py) ... \u001b[?25l\u001b[?25hdone\n",
            "  Created wheel for sqlalchemy: filename=SQLAlchemy-1.3.23-cp310-cp310-linux_x86_64.whl size=1250462 sha256=0028600d1bc4481b3ed18c10c5068dd626a544c47c71a48e91a28e54560c6004\n",
            "  Stored in directory: /root/.cache/pip/wheels/6b/bd/5f/b63dc9976fc54a34ac2019fdbef4eb6a15aef4958298ce4b55\n",
            "Successfully built sqlalchemy\n",
            "Installing collected packages: sqlalchemy\n",
            "  Attempting uninstall: sqlalchemy\n",
            "    Found existing installation: SQLAlchemy 2.0.29\n",
            "    Uninstalling SQLAlchemy-2.0.29:\n",
            "      Successfully uninstalled SQLAlchemy-2.0.29\n",
            "\u001b[31mERROR: pip's dependency resolver does not currently take into account all the packages that are installed. This behaviour is the source of the following dependency conflicts.\n",
            "bigframes 1.0.0 requires sqlalchemy<3.0dev,>=1.4, but you have sqlalchemy 1.3.23 which is incompatible.\n",
            "ipython-sql 0.5.0 requires sqlalchemy>=2.0, but you have sqlalchemy 1.3.23 which is incompatible.\u001b[0m\u001b[31m\n",
            "\u001b[0mSuccessfully installed sqlalchemy-1.3.23\n"
          ]
        }
      ],
      "source": [
        "!pip install sqlalchemy==1.3.23"
      ]
    },
    {
      "cell_type": "code",
      "source": [
        "!pip install --upgrade sqlalchemy"
      ],
      "metadata": {
        "colab": {
          "base_uri": "https://localhost:8080/"
        },
        "id": "pVl16_3z-2_m",
        "outputId": "4c8f597a-4a64-434d-81bb-00448a84ee5c"
      },
      "execution_count": null,
      "outputs": [
        {
          "output_type": "stream",
          "name": "stdout",
          "text": [
            "Requirement already satisfied: sqlalchemy in /usr/local/lib/python3.10/dist-packages (1.3.23)\n",
            "Collecting sqlalchemy\n",
            "  Downloading SQLAlchemy-2.0.29-cp310-cp310-manylinux_2_17_x86_64.manylinux2014_x86_64.whl (3.1 MB)\n",
            "\u001b[2K     \u001b[90m━━━━━━━━━━━━━━━━━━━━━━━━━━━━━━━━━━━━━━━━\u001b[0m \u001b[32m3.1/3.1 MB\u001b[0m \u001b[31m17.0 MB/s\u001b[0m eta \u001b[36m0:00:00\u001b[0m\n",
            "\u001b[?25hRequirement already satisfied: typing-extensions>=4.6.0 in /usr/local/lib/python3.10/dist-packages (from sqlalchemy) (4.10.0)\n",
            "Requirement already satisfied: greenlet!=0.4.17 in /usr/local/lib/python3.10/dist-packages (from sqlalchemy) (3.0.3)\n",
            "Installing collected packages: sqlalchemy\n",
            "  Attempting uninstall: sqlalchemy\n",
            "    Found existing installation: SQLAlchemy 1.3.23\n",
            "    Uninstalling SQLAlchemy-1.3.23:\n",
            "      Successfully uninstalled SQLAlchemy-1.3.23\n",
            "Successfully installed sqlalchemy-2.0.29\n"
          ]
        }
      ]
    },
    {
      "cell_type": "code",
      "source": [
        "!pip install ipython-sql"
      ],
      "metadata": {
        "colab": {
          "base_uri": "https://localhost:8080/"
        },
        "id": "9UpAwDyj-4mV",
        "outputId": "bd816a4f-c42c-472c-ab1c-a6e0ae919b26"
      },
      "execution_count": null,
      "outputs": [
        {
          "output_type": "stream",
          "name": "stdout",
          "text": [
            "Requirement already satisfied: ipython-sql in /usr/local/lib/python3.10/dist-packages (0.5.0)\n",
            "Requirement already satisfied: prettytable in /usr/local/lib/python3.10/dist-packages (from ipython-sql) (3.10.0)\n",
            "Requirement already satisfied: ipython in /usr/local/lib/python3.10/dist-packages (from ipython-sql) (7.34.0)\n",
            "Requirement already satisfied: sqlalchemy>=2.0 in /usr/local/lib/python3.10/dist-packages (from ipython-sql) (2.0.29)\n",
            "Requirement already satisfied: sqlparse in /usr/local/lib/python3.10/dist-packages (from ipython-sql) (0.4.4)\n",
            "Requirement already satisfied: six in /usr/local/lib/python3.10/dist-packages (from ipython-sql) (1.16.0)\n",
            "Requirement already satisfied: ipython-genutils in /usr/local/lib/python3.10/dist-packages (from ipython-sql) (0.2.0)\n",
            "Requirement already satisfied: typing-extensions>=4.6.0 in /usr/local/lib/python3.10/dist-packages (from sqlalchemy>=2.0->ipython-sql) (4.10.0)\n",
            "Requirement already satisfied: greenlet!=0.4.17 in /usr/local/lib/python3.10/dist-packages (from sqlalchemy>=2.0->ipython-sql) (3.0.3)\n",
            "Requirement already satisfied: setuptools>=18.5 in /usr/local/lib/python3.10/dist-packages (from ipython->ipython-sql) (67.7.2)\n",
            "Collecting jedi>=0.16 (from ipython->ipython-sql)\n",
            "  Downloading jedi-0.19.1-py2.py3-none-any.whl (1.6 MB)\n",
            "\u001b[2K     \u001b[90m━━━━━━━━━━━━━━━━━━━━━━━━━━━━━━━━━━━━━━━━\u001b[0m \u001b[32m1.6/1.6 MB\u001b[0m \u001b[31m12.1 MB/s\u001b[0m eta \u001b[36m0:00:00\u001b[0m\n",
            "\u001b[?25hRequirement already satisfied: decorator in /usr/local/lib/python3.10/dist-packages (from ipython->ipython-sql) (4.4.2)\n",
            "Requirement already satisfied: pickleshare in /usr/local/lib/python3.10/dist-packages (from ipython->ipython-sql) (0.7.5)\n",
            "Requirement already satisfied: traitlets>=4.2 in /usr/local/lib/python3.10/dist-packages (from ipython->ipython-sql) (5.7.1)\n",
            "Requirement already satisfied: prompt-toolkit!=3.0.0,!=3.0.1,<3.1.0,>=2.0.0 in /usr/local/lib/python3.10/dist-packages (from ipython->ipython-sql) (3.0.43)\n",
            "Requirement already satisfied: pygments in /usr/local/lib/python3.10/dist-packages (from ipython->ipython-sql) (2.16.1)\n",
            "Requirement already satisfied: backcall in /usr/local/lib/python3.10/dist-packages (from ipython->ipython-sql) (0.2.0)\n",
            "Requirement already satisfied: matplotlib-inline in /usr/local/lib/python3.10/dist-packages (from ipython->ipython-sql) (0.1.6)\n",
            "Requirement already satisfied: pexpect>4.3 in /usr/local/lib/python3.10/dist-packages (from ipython->ipython-sql) (4.9.0)\n",
            "Requirement already satisfied: wcwidth in /usr/local/lib/python3.10/dist-packages (from prettytable->ipython-sql) (0.2.13)\n",
            "Requirement already satisfied: parso<0.9.0,>=0.8.3 in /usr/local/lib/python3.10/dist-packages (from jedi>=0.16->ipython->ipython-sql) (0.8.3)\n",
            "Requirement already satisfied: ptyprocess>=0.5 in /usr/local/lib/python3.10/dist-packages (from pexpect>4.3->ipython->ipython-sql) (0.7.0)\n",
            "Installing collected packages: jedi\n",
            "Successfully installed jedi-0.19.1\n"
          ]
        }
      ]
    },
    {
      "cell_type": "code",
      "source": [
        "%load_ext sql"
      ],
      "metadata": {
        "id": "BqM2VvmW-5gN"
      },
      "execution_count": null,
      "outputs": []
    },
    {
      "cell_type": "code",
      "source": [
        "from google.colab import drive\n",
        "drive.mount('/content/drive')"
      ],
      "metadata": {
        "colab": {
          "base_uri": "https://localhost:8080/"
        },
        "id": "rBtNFWCy-_Ok",
        "outputId": "c4940236-473a-4008-8840-a370e6a21851"
      },
      "execution_count": null,
      "outputs": [
        {
          "output_type": "stream",
          "name": "stdout",
          "text": [
            "Mounted at /content/drive\n"
          ]
        }
      ]
    },
    {
      "cell_type": "code",
      "source": [
        "import sqlite3\n",
        "\n",
        "# Kết nối đến cơ sở dữ liệu SQLite (nếu chưa có, nó sẽ tự động tạo mới)\n",
        "conn = sqlite3.connect('/content/drive/MyDrive/db/Blake3.db')\n",
        "\n",
        "# Tạo con trỏ đến cơ sở dữ liệu\n",
        "cur = conn.cursor()\n",
        "\n",
        "# Tạo bảng Class\n",
        "cur.execute('''CREATE TABLE Class (\n",
        "                ClassId VARCHAR(8) NOT NULL PRIMARY KEY,\n",
        "                ClassName NVARCHAR(64) NOT NULL\n",
        ")''')\n",
        "\n",
        "# Tạo bảng Student\n",
        "cur.execute('''CREATE TABLE Student (\n",
        "                StudentId VARCHAR(10) NOT NULL PRIMARY KEY,\n",
        "                ClassId VARCHAR(8) NOT NULL,\n",
        "                LastName NVARCHAR(32) NOT NULL,\n",
        "                FirstName NVARCHAR(16) NOT NULL,\n",
        "                Email VARCHAR(64) NOT NULL,\n",
        "                Gender INTEGER NOT NULL,\n",
        "                Score REAL NOT NULL,\n",
        "                FOREIGN KEY (ClassId) REFERENCES Class(ClassId)\n",
        ")''')\n",
        "cur.execute('''CREATE TABLE TaiKhoan (\n",
        "                UserName VARCHAR(10) NOT NULL PRIMARY KEY,\n",
        "                Password VARCHAR(8) NOT NULL,\n",
        "                StudentId VARCHAR(10) NOT NULL,\n",
        "                FOREIGN KEY (StudentId) REFERENCES Student(StudentId)\n",
        ")''')\n",
        "\n",
        "# Lưu các thay đổi và đóng kết nối\n",
        "conn.commit()\n",
        "conn.close()\n",
        "\n",
        "print(\"Cơ sở dữ liệu và bảng đã được tạo thành công.\")\n"
      ],
      "metadata": {
        "colab": {
          "base_uri": "https://localhost:8080/"
        },
        "id": "a-mbxXGA_DI0",
        "outputId": "d1e003bf-2147-4113-b9db-6dcb47be88a4"
      },
      "execution_count": null,
      "outputs": [
        {
          "output_type": "stream",
          "name": "stdout",
          "text": [
            "Cơ sở dữ liệu và bảng đã được tạo thành công.\n"
          ]
        }
      ]
    },
    {
      "cell_type": "code",
      "source": [
        "import sqlite3\n",
        "\n",
        "# Kết nối đến cơ sở dữ liệu SQLite\n",
        "conn = sqlite3.connect('/content/drive/MyDrive/db/Blake3.db')\n",
        "\n",
        "# Tạo con trỏ đến cơ sở dữ liệu\n",
        "cur = conn.cursor()\n",
        "\n",
        "# Thêm dữ liệu vào bảng Class\n",
        "cur.execute(\"INSERT INTO Class (ClassId, ClassName) VALUES (?, ?)\", ('CNPM1', 'Công nghệ phần mềm 1'))\n",
        "cur.execute(\"INSERT INTO Class (ClassId, ClassName) VALUES (?, ?)\", ('CNPM2', 'Công nghệ phần mềm 2'))\n",
        "\n",
        "# Thêm dữ liệu vào bảng Student\n",
        "cur.execute(\"INSERT INTO Student (StudentId, ClassId, LastName, FirstName, Email, Gender, Score) VALUES (?, ?, ?, ?, ?, ?, ?)\",\n",
        "            ('S001', 'CNPM1', 'Nguyễn Lê Thảo', 'Quyên', 'quyen@gmail.com', 0, '85'))\n",
        "cur.execute(\"INSERT INTO Student (StudentId, ClassId, LastName, FirstName, Email, Gender, Score) VALUES (?, ?, ?, ?, ?, ?, ?)\",\n",
        "            ('S002', 'CNPM2', 'Nguyễn Lê Thảo', 'MiChu', 'michu@example.com', 0, '92'))\n",
        "\n",
        "# Lưu các thay đổi\n",
        "conn.commit()\n",
        "\n",
        "# Đóng kết nối\n",
        "conn.close()\n",
        "\n",
        "print(\"Dữ liệu đã được thêm vào các bảng thành công.\")\n"
      ],
      "metadata": {
        "colab": {
          "base_uri": "https://localhost:8080/"
        },
        "id": "Tw9bXKQcAN7-",
        "outputId": "db10cfb9-d808-414c-eb4c-d47e3bac58bf"
      },
      "execution_count": null,
      "outputs": [
        {
          "output_type": "stream",
          "name": "stdout",
          "text": [
            "Dữ liệu đã được thêm vào các bảng thành công.\n"
          ]
        }
      ]
    },
    {
      "cell_type": "code",
      "source": [
        "import sqlite3\n",
        "\n",
        "# Kết nối đến cơ sở dữ liệu SQLite\n",
        "conn = sqlite3.connect('/content/drive/MyDrive/db/Blake3.db')\n",
        "\n",
        "# Tạo con trỏ đến cơ sở dữ liệu\n",
        "cur = conn.cursor()\n",
        "\n",
        "# Truy vấn dữ liệu từ bảng Class\n",
        "cur.execute(\"SELECT * FROM Class\")\n",
        "class_data = cur.fetchall()\n",
        "\n",
        "# In dữ liệu từ bảng Class\n",
        "print(\"Dữ liệu từ bảng Class:\")\n",
        "for row in class_data:\n",
        "    print(row)\n",
        "\n",
        "# Truy vấn dữ liệu từ bảng Student\n",
        "cur.execute(\"SELECT * FROM Student\")\n",
        "student_data = cur.fetchall()\n",
        "\n",
        "# In dữ liệu từ bảng Student\n",
        "print(\"\\nDữ liệu từ bảng Student:\")\n",
        "for row in student_data:\n",
        "    print(row)\n",
        "\n",
        "# Truy vấn dữ liệu từ bảng Student\n",
        "cur.execute(\"SELECT * FROM TaiKhoan\")\n",
        "taikhoan_data = cur.fetchall()\n",
        "\n",
        "# In dữ liệu từ bảng Student\n",
        "print(\"\\nDữ liệu từ bảng tài khoản:\")\n",
        "for row in taikhoan_data:\n",
        "    print(row)\n",
        "\n",
        "# Đóng kết nối\n",
        "conn.close()\n"
      ],
      "metadata": {
        "colab": {
          "base_uri": "https://localhost:8080/"
        },
        "id": "2HSEYd4oAmU0",
        "outputId": "c37a7f59-410a-4cb3-b7e8-76e39cc255a6"
      },
      "execution_count": null,
      "outputs": [
        {
          "output_type": "stream",
          "name": "stdout",
          "text": [
            "Dữ liệu từ bảng Class:\n",
            "('CNPM1', 'Công nghệ phần mềm 1')\n",
            "('CNPM2', 'Công nghệ phần mềm 2')\n",
            "\n",
            "Dữ liệu từ bảng Student:\n",
            "('S001', 'CNPM1', 'Nguyễn Lê Thảo', 'Quyên', 'quyen@gmail.com', 0, 85.0)\n",
            "('S002', 'CNPM2', 'Nguyễn Lê Thảo', 'MiChu', 'michu@example.com', 0, 92.0)\n",
            "\n",
            "Dữ liệu từ bảng tài khoản:\n"
          ]
        }
      ]
    },
    {
      "cell_type": "code",
      "source": [
        "import sqlite3\n",
        "from blake3 import blake3\n",
        "\n",
        "# Kết nối đến cơ sở dữ liệu SQLite\n",
        "conn = sqlite3.connect('/content/drive/MyDrive/db/Blake3.db')\n",
        "\n",
        "# Tạo con trỏ đến cơ sở dữ liệu\n",
        "cur = conn.cursor()\n",
        "\n",
        "# Thêm cột mới để lưu trữ dữ liệu gốc\n",
        "#cur.execute('''ALTER TABLE Student ADD COLUMN RawEmail TEXT''')\n",
        "\n",
        "# Nhập dữ liệu từ người dùng\n",
        "student_id = input(\"Nhập mã sinh viên: \")\n",
        "class_id = input(\"Nhập mã lớp học: \")\n",
        "last_name = input(\"Nhập họ: \")\n",
        "first_name = input(\"Nhập tên: \")\n",
        "email = input(\"Nhập email: \")\n",
        "gender = input(\"Nhập giới tính (1 - Nam, 0 - Nữ): \")\n",
        "score = input(\"Nhập điểm: \")\n",
        "\n",
        "cur.execute(\"INSERT INTO Student (StudentId, ClassId, LastName, FirstName, Email, Gender, Score) VALUES (?, ?, ?, ?, ?, ?,?)\",\n",
        "            (student_id, class_id, last_name, first_name, email, gender, score))\n",
        "\n",
        "\n",
        "# Lưu các thay đổi và đóng kết nối\n",
        "conn.commit()\n",
        "conn.close()\n",
        "\n",
        "print(\"Dữ liệu đã được chèn vào bảng Student thành công.\")\n"
      ],
      "metadata": {
        "colab": {
          "base_uri": "https://localhost:8080/"
        },
        "id": "1jR2jPIbuPZ2",
        "outputId": "ddc0ce49-4ff5-455d-8908-95f337786c1f"
      },
      "execution_count": null,
      "outputs": [
        {
          "output_type": "stream",
          "name": "stdout",
          "text": [
            "Nhập mã sinh viên: S003\n",
            "Nhập mã lớp học: CNPM1\n",
            "Nhập họ: Mai\n",
            "Nhập tên: Nam\n",
            "Nhập email: nam@gmail.com\n",
            "Nhập giới tính (1 - Nam, 0 - Nữ): 1\n",
            "Nhập điểm: 49\n",
            "Dữ liệu đã được chèn vào bảng Student thành công.\n"
          ]
        }
      ]
    },
    {
      "cell_type": "code",
      "source": [
        "import sqlite3\n",
        "\n",
        "# Kết nối đến cơ sở dữ liệu SQLite\n",
        "conn = sqlite3.connect('/content/drive/MyDrive/db/Blake3.db')\n",
        "\n",
        "# Tạo con trỏ đến cơ sở dữ liệu\n",
        "cur = conn.cursor()\n",
        "\n",
        "# Truy vấn dữ liệu từ bảng Class\n",
        "cur.execute(\"SELECT * FROM Class\")\n",
        "class_data = cur.fetchall()\n",
        "\n",
        "# In dữ liệu từ bảng Class\n",
        "print(\"Dữ liệu từ bảng Class:\")\n",
        "for row in class_data:\n",
        "    print(row)\n",
        "\n",
        "# Truy vấn dữ liệu từ bảng Student\n",
        "cur.execute(\"SELECT * FROM Student\")\n",
        "student_data = cur.fetchall()\n",
        "\n",
        "# In dữ liệu từ bảng Student\n",
        "print(\"\\nDữ liệu từ bảng Student:\")\n",
        "for row in student_data:\n",
        "    print(row)\n",
        "\n",
        "# Truy vấn dữ liệu từ bảng Student\n",
        "cur.execute(\"SELECT * FROM TaiKhoan\")\n",
        "taikhoan_data = cur.fetchall()\n",
        "\n",
        "# In dữ liệu từ bảng Student\n",
        "print(\"\\nDữ liệu từ bảng tài khoản:\")\n",
        "for row in taikhoan_data:\n",
        "    print(row)\n",
        "\n",
        "# Đóng kết nối\n",
        "conn.close()\n"
      ],
      "metadata": {
        "colab": {
          "base_uri": "https://localhost:8080/"
        },
        "id": "_dFyjQ-3zbwl",
        "outputId": "2e89590c-10e3-4372-e1e3-0967c9fb2d79"
      },
      "execution_count": null,
      "outputs": [
        {
          "output_type": "stream",
          "name": "stdout",
          "text": [
            "Dữ liệu từ bảng Class:\n",
            "('CNPM1', 'Công nghệ phần mềm 1')\n",
            "('CNPM2', 'Công nghệ phần mềm 2')\n",
            "\n",
            "Dữ liệu từ bảng Student:\n",
            "('S001', 'CNPM1', 'Nguyễn Lê Thảo', 'Quyên', 'quyen@gmail.com', 0, 85.0)\n",
            "('S002', 'CNPM2', 'Nguyễn Lê Thảo', 'MiChu', 'michu@example.com', 0, 92.0)\n",
            "('S003', 'CNPM1', 'Mai', 'Nam', 'nam@gmail.com', 1, 49.0)\n",
            "\n",
            "Dữ liệu từ bảng tài khoản:\n"
          ]
        }
      ]
    },
    {
      "cell_type": "code",
      "source": [
        "import sqlite3\n",
        "\n",
        "# Kết nối đến cơ sở dữ liệu SQLite\n",
        "conn = sqlite3.connect('/content/drive/MyDrive/db/Blake3.db')\n",
        "\n",
        "# Tạo con trỏ đến cơ sở dữ liệu\n",
        "cur = conn.cursor()\n",
        "\n",
        "# Nhập dữ liệu từ người dùng\n",
        "class_id = input(\"Nhập mã lớp học: \")\n",
        "class_name = input(\"Nhập tên lớp học: \")\n",
        "\n",
        "# Tạo câu lệnh INSERT và thực thi\n",
        "insert_class_sql = f\"INSERT INTO Class (ClassId, ClassName) VALUES ('{class_id}', '{class_name}')\"\n",
        "cur.execute(insert_class_sql)\n",
        "\n",
        "# Lưu các thay đổi và đóng kết nối\n",
        "conn.commit()\n",
        "conn.close()\n",
        "\n",
        "print(\"Dữ liệu đã được chèn vào bảng Class thành công.\")\n"
      ],
      "metadata": {
        "colab": {
          "base_uri": "https://localhost:8080/"
        },
        "id": "t3kur1rquQgc",
        "outputId": "dd04fd79-bd93-4c46-ed05-364144ca8182"
      },
      "execution_count": null,
      "outputs": [
        {
          "output_type": "stream",
          "name": "stdout",
          "text": [
            "Nhập mã lớp học: CNPM3\n",
            "Nhập tên lớp học: Công nghệ phần mềm 3\n",
            "Dữ liệu đã được chèn vào bảng Class thành công.\n"
          ]
        }
      ]
    },
    {
      "cell_type": "code",
      "source": [
        "import sqlite3\n",
        "\n",
        "# Kết nối đến cơ sở dữ liệu SQLite\n",
        "conn = sqlite3.connect('/content/drive/MyDrive/db/Blake3.db')\n",
        "\n",
        "# Tạo con trỏ đến cơ sở dữ liệu\n",
        "cur = conn.cursor()\n",
        "\n",
        "# Truy vấn dữ liệu từ bảng Class\n",
        "cur.execute(\"SELECT * FROM Class\")\n",
        "class_data = cur.fetchall()\n",
        "\n",
        "# In dữ liệu từ bảng Class\n",
        "print(\"Dữ liệu từ bảng Class:\")\n",
        "for row in class_data:\n",
        "    print(row)\n",
        "\n",
        "# Truy vấn dữ liệu từ bảng Student\n",
        "cur.execute(\"SELECT * FROM Student\")\n",
        "student_data = cur.fetchall()\n",
        "\n",
        "# In dữ liệu từ bảng Student\n",
        "print(\"\\nDữ liệu từ bảng Student:\")\n",
        "for row in student_data:\n",
        "    print(row)\n",
        "\n",
        "# Truy vấn dữ liệu từ bảng Student\n",
        "cur.execute(\"SELECT * FROM TaiKhoan\")\n",
        "taikhoan_data = cur.fetchall()\n",
        "\n",
        "# In dữ liệu từ bảng Student\n",
        "print(\"\\nDữ liệu từ bảng tài khoản:\")\n",
        "for row in taikhoan_data:\n",
        "    print(row)\n",
        "\n",
        "# Đóng kết nối\n",
        "conn.close()\n"
      ],
      "metadata": {
        "colab": {
          "base_uri": "https://localhost:8080/"
        },
        "id": "VETv1AbezimE",
        "outputId": "44996b53-b1fc-4e40-de2d-0183f2ec007c"
      },
      "execution_count": null,
      "outputs": [
        {
          "output_type": "stream",
          "name": "stdout",
          "text": [
            "Dữ liệu từ bảng Class:\n",
            "('CNPM1', 'Công nghệ phần mềm 1')\n",
            "('CNPM2', 'Công nghệ phần mềm 2')\n",
            "('CNPM3', 'Công nghệ phần mềm 3')\n",
            "\n",
            "Dữ liệu từ bảng Student:\n",
            "('S001', 'CNPM1', 'Nguyễn Lê Thảo', 'Quyên', 'quyen@gmail.com', 0, 85.0)\n",
            "('S002', 'CNPM2', 'Nguyễn Lê Thảo', 'MiChu', 'michu@example.com', 0, 92.0)\n",
            "('S003', 'CNPM1', 'Mai', 'Nam', 'nam@gmail.com', 1, 49.0)\n",
            "\n",
            "Dữ liệu từ bảng tài khoản:\n"
          ]
        }
      ]
    },
    {
      "cell_type": "code",
      "source": [
        "!pip install blake3"
      ],
      "metadata": {
        "colab": {
          "base_uri": "https://localhost:8080/"
        },
        "id": "HeJQiqDXZLmS",
        "outputId": "35c96315-d74a-49b3-e0ac-8d02d130d3ed"
      },
      "execution_count": null,
      "outputs": [
        {
          "output_type": "stream",
          "name": "stdout",
          "text": [
            "Requirement already satisfied: blake3 in /usr/local/lib/python3.10/dist-packages (0.4.1)\n"
          ]
        }
      ]
    },
    {
      "cell_type": "code",
      "source": [
        "import sqlite3\n",
        "import blake3\n",
        "import getpass\n",
        "\n",
        "# Kết nối đến cơ sở dữ liệu SQLite\n",
        "conn = sqlite3.connect('/content/drive/MyDrive/db/Blake3.db')\n",
        "cur = conn.cursor()\n",
        "\n",
        "# Hàm băm mật khẩu bằng Blake3\n",
        "def hash_password(password):\n",
        "    return blake3.blake3(password.encode()).hexdigest()\n",
        "\n",
        "while True:\n",
        "    # Nhập dữ liệu từ bàn phím\n",
        "    username = input(\"Nhập tên người dùng: \")\n",
        "    password = getpass.getpass(\"Nhập mật khẩu: \")\n",
        "    students = input(\"Nhập mã sinh viên\")\n",
        "\n",
        "    # Băm mật khẩu trước khi lưu vào cơ sở dữ liệu\n",
        "    hashed_password = hash_password(password)\n",
        "\n",
        "    # Chèn dữ liệu vào bảng TaiKhoan\n",
        "    cur.execute(\"INSERT INTO TaiKhoan (UserName, Password,StudentId) VALUES (?, ?,?)\", (username, hashed_password,students))\n",
        "\n",
        "    # Lưu các thay đổi\n",
        "    conn.commit()\n",
        "\n",
        "    # Hỏi người dùng có muốn tạo tài khoản khác hay không\n",
        "    tao_tiep = input(\"Bạn có muốn tạo tài khoản khác không? (c/k): \")\n",
        "    if tao_tiep.lower() != 'c':\n",
        "        break\n",
        "\n",
        "# Đóng kết nối\n",
        "conn.close()\n",
        "print(\"Dữ liệu đã được lưu vào cơ sở dữ liệu thành công.\")\n",
        "print(\"Chương trình đã kết thúc.\")\n"
      ],
      "metadata": {
        "colab": {
          "base_uri": "https://localhost:8080/"
        },
        "id": "0nGho3qRYc4A",
        "outputId": "2c0a436f-e34b-41c7-c5e1-34d9e18de35f"
      },
      "execution_count": null,
      "outputs": [
        {
          "output_type": "stream",
          "name": "stdout",
          "text": [
            "Nhập tên người dùng: thaoquyen\n",
            "Nhập mật khẩu: 12345\n",
            "Nhập mã sinh viênS001\n",
            "Bạn có muốn tạo tài khoản khác không? (c/k): k\n",
            "Dữ liệu đã được lưu vào cơ sở dữ liệu thành công.\n",
            "Chương trình đã kết thúc.\n"
          ]
        }
      ]
    },
    {
      "cell_type": "code",
      "source": [
        "import sqlite3\n",
        "\n",
        "# Kết nối đến cơ sở dữ liệu SQLite\n",
        "conn = sqlite3.connect('/content/drive/MyDrive/db/Blake3.db')\n",
        "\n",
        "# Tạo con trỏ đến cơ sở dữ liệu\n",
        "cur = conn.cursor()\n",
        "\n",
        "# Truy vấn dữ liệu từ bảng Class\n",
        "cur.execute(\"SELECT * FROM Class\")\n",
        "class_data = cur.fetchall()\n",
        "\n",
        "# In dữ liệu từ bảng Class\n",
        "print(\"Dữ liệu từ bảng Class:\")\n",
        "for row in class_data:\n",
        "    print(row)\n",
        "\n",
        "# Truy vấn dữ liệu từ bảng Student\n",
        "cur.execute(\"SELECT * FROM Student\")\n",
        "student_data = cur.fetchall()\n",
        "\n",
        "# In dữ liệu từ bảng Student\n",
        "print(\"\\nDữ liệu từ bảng Student:\")\n",
        "for row in student_data:\n",
        "    print(row)\n",
        "\n",
        "# Truy vấn dữ liệu từ bảng Student\n",
        "cur.execute(\"SELECT * FROM TaiKhoan\")\n",
        "taikhoan_data = cur.fetchall()\n",
        "\n",
        "# In dữ liệu từ bảng Student\n",
        "print(\"\\nDữ liệu từ bảng tài khoản:\")\n",
        "for row in taikhoan_data:\n",
        "    print(row)\n",
        "\n",
        "# Đóng kết nối\n",
        "conn.close()\n"
      ],
      "metadata": {
        "colab": {
          "base_uri": "https://localhost:8080/"
        },
        "id": "cGe9NtW8zuZw",
        "outputId": "f8d5657e-8ee0-4bb9-dc35-bde2921df467"
      },
      "execution_count": null,
      "outputs": [
        {
          "output_type": "stream",
          "name": "stdout",
          "text": [
            "Dữ liệu từ bảng Class:\n",
            "('CNPM1', 'Công nghệ phần mềm 1')\n",
            "('CNPM2', 'Công nghệ phần mềm 2')\n",
            "('CNPM3', 'Công nghệ phần mềm 3')\n",
            "\n",
            "Dữ liệu từ bảng Student:\n",
            "('S001', 'CNPM1', 'Nguyễn Lê Thảo', 'Quyên', 'quyen@gmail.com', 0, 85.0)\n",
            "('S002', 'CNPM2', 'Nguyễn Lê Thảo', 'MiChu', 'michu@example.com', 0, 92.0)\n",
            "('S003', 'CNPM1', 'Mai', 'Nam', 'nam@gmail.com', 1, 49.0)\n",
            "\n",
            "Dữ liệu từ bảng tài khoản:\n",
            "('thaoquyen', '86f2d80abe9c3f7b4a1a57a8d1130fa8dc08c81604833ce1212dc039b010d9e4', 'S001')\n"
          ]
        }
      ]
    },
    {
      "cell_type": "code",
      "source": [
        "import sqlite3\n",
        "import blake3\n",
        "import getpass\n",
        "\n",
        "\n",
        "# Kết nối đến cơ sở dữ liệu SQLite\n",
        "conn = sqlite3.connect('/content/drive/MyDrive/db/Blake3.db')\n",
        "cur = conn.cursor()\n",
        "\n",
        "# Hàm băm mật khẩu bằng Blake3\n",
        "def hash_password(password):\n",
        "    return blake3.blake3(password.encode()).hexdigest()\n",
        "\n",
        "# Hàm xác minh tên người dùng và mật khẩu từ cơ sở dữ liệu\n",
        "def authenticate(username, password):\n",
        "    cur.execute(\"SELECT * FROM TaiKhoan WHERE UserName=? AND Password=?\", (username, hash_password(password)))\n",
        "    return cur.fetchone()\n",
        "\n",
        "# Hàm truy vấn thông tin sinh viên từ cơ sở dữ liệu\n",
        "def get_student_info(student_id):\n",
        "    cur.execute(\"SELECT * FROM Student WHERE StudentId=?\", (student_id,))\n",
        "    return cur.fetchone()\n",
        "\n",
        "# Đăng nhập\n",
        "while True:\n",
        "    username = input(\"Nhập tên người dùng: \")\n",
        "    password = getpass.getpass(\"Nhập mật khẩu: \")\n",
        "\n",
        "    user = authenticate(username, password)\n",
        "    if user:\n",
        "        print(\"Đăng nhập thành công!\")\n",
        "        student_id = user[2]  # Lấy mã sinh viên từ thông tin tài khoản đã đăng nhập\n",
        "        student_info = get_student_info(student_id)\n",
        "        print(\"Thông tin sinh viên:\")\n",
        "        print(\"Mã sinh viên:\", student_info[0])\n",
        "        print(\"Họ và tên đệm:\", student_info[1])\n",
        "        print(\"Tên:\", student_info[2])\n",
        "        print(\"Email:\", student_info[3])\n",
        "        print(\"Giới tính:\", \"Nam\" if student_info[4] == 1 else \"Nữ\")\n",
        "        print(\"Điểm:\", student_info[5])\n",
        "        break\n",
        "    else:\n",
        "        print(\"Tên người dùng hoặc mật khẩu không chính xác.\")\n",
        "\n",
        "# Đóng kết nối\n",
        "conn.close()\n"
      ],
      "metadata": {
        "colab": {
          "base_uri": "https://localhost:8080/"
        },
        "id": "jGStUNhLZ65v",
        "outputId": "4471ed6e-2d41-42f9-c21a-f52a6de5fceb"
      },
      "execution_count": null,
      "outputs": [
        {
          "output_type": "stream",
          "name": "stdout",
          "text": [
            "Nhập tên người dùng: thaoquyen\n",
            "Nhập mật khẩu: ··········\n",
            "Đăng nhập thành công!\n",
            "Thông tin sinh viên:\n",
            "Mã sinh viên: S001\n",
            "Họ và tên đệm: CNPM1\n",
            "Tên: Nguyễn Lê Thảo\n",
            "Email: Quyên\n",
            "Giới tính: Nữ\n",
            "Điểm: 0\n"
          ]
        }
      ]
    },
    {
      "cell_type": "code",
      "source": [
        "import sqlite3\n",
        "import blake3\n",
        "import smtplib\n",
        "from email.mime.text import MIMEText\n",
        "import random\n",
        "import string\n",
        "import getpass\n",
        "\n",
        "# Kết nối đến cơ sở dữ liệu SQLite\n",
        "conn = sqlite3.connect('/content/drive/MyDrive/db/Blake3.db')\n",
        "cur = conn.cursor()\n",
        "\n",
        "# Hàm băm mật khẩu bằng Blake3\n",
        "def hash_password(password):\n",
        "    return blake3.blake3(password.encode()).hexdigest()\n",
        "# Hàm tạo mã xác nhận ngẫu nhiên\n",
        "def generate_confirmation_code(length=6):\n",
        "    return ''.join(random.choices(string.ascii_letters + string.digits, k=length))\n",
        "\n",
        "# Hàm xác minh tên người dùng và mật khẩu từ cơ sở dữ liệu\n",
        "def authenticate(username, password):\n",
        "    username = input(\"Nhập tên người dùng: \")\n",
        "    cur.execute(\"SELECT * FROM TaiKhoan WHERE UserName=?\", (username,))\n",
        "    user = cur.fetchone()\n",
        "    if user and user[2] == hash_password(password):\n",
        "        return user\n",
        "    return None\n",
        "\n",
        "# Hàm lấy thông tin sinh viên từ cơ sở dữ liệu\n",
        "def get_student_info(student_id):\n",
        "    cur.execute(\"SELECT * FROM Student WHERE StudentId=?\", (student_id,))\n",
        "    return cur.fetchone()\n",
        "\n",
        "# Hàm gửi email xác nhận\n",
        "def send_confirmation_email(email, confirmation_code):\n",
        "    sender_email = \"thaoquyentqtq1204@gmail.com\"  # Điền email của bạn\n",
        "    sender_password = \"tfgk cvbm pezk vsey\"  # Điền mật khẩu của bạn\n",
        "\n",
        "    msg = MIMEText(f\"Your confirmation code is: {confirmation_code}\")\n",
        "    msg['Subject'] = 'Password reset confirmation code'\n",
        "    msg['From'] = sender_email\n",
        "    msg['To'] = email\n",
        "\n",
        "    try:\n",
        "        with smtplib.SMTP_SSL('smtp.gmail.com', 465) as smtp:\n",
        "            smtp.login(sender_email, sender_password)\n",
        "            smtp.send_message(msg)\n",
        "        print(\"Mã xác nhận đã được gửi đến địa chỉ email của bạn.\")\n",
        "    except Exception as e:\n",
        "        print(\"Đã xảy ra lỗi trong quá trình gửi email:\", str(e))\n",
        "\n",
        "# Hàm xác minh mã xác nhận\n",
        "def verify_confirmation_code(entered_code, actual_code):\n",
        "    return entered_code == actual_code\n",
        "\n",
        "# Hàm cập nhật mật khẩu mới\n",
        "def update_password(username, new_password):\n",
        "\n",
        "    hashed_password = hash_password(new_password)\n",
        "    cur.execute(\"UPDATE TaiKhoan SET Password=? WHERE UserName=?\", (hashed_password, username))\n",
        "    conn.commit()\n",
        "    print(\"Mật khẩu đã được cập nhật thành công.\")\n",
        "\n",
        "# Đăng nhập hoặc yêu cầu mã xác nhận\n",
        "while True:\n",
        "    action = input(\"Bạn muốn đăng nhập (đ) hay yêu cầu mã xác nhận (m)? \")\n",
        "    if action == 'đ':\n",
        "        username = input(\"Nhập tên người dùng: \")\n",
        "        password = getpass.getpass(\"Nhập mật khẩu: \")\n",
        "        user = authenticate(username, password)\n",
        "        if user:\n",
        "            print(\"Đăng nhập thành công!\")\n",
        "            student_id = user[2]\n",
        "            student_info = get_student_info(student_id)\n",
        "            print(\"Thông tin sinh viên:\")\n",
        "            print(\"Mã sinh viên:\", student_info[0])\n",
        "            print(\"Họ và tên đệm:\", student_info[1])\n",
        "            print(\"Tên:\", student_info[2])\n",
        "            print(\"Email:\", student_info[3])\n",
        "            print(\"Giới tính:\", \"Nam\" if student_info[4] == 1 else \"Nữ\")\n",
        "            print(\"Điểm:\", student_info[5])\n",
        "            break\n",
        "        else:\n",
        "            print(\"Tên người dùng hoặc mật khẩu không chính xác.\")\n",
        "    elif action == 'm':\n",
        "        username = input(\"Nhập tên tài khoản cần thay đổi\")\n",
        "        email = input(\"Nhập địa chỉ email của bạn: \")\n",
        "        confirmation_code = generate_confirmation_code()  # Tạo mã xác nhận ở đây, bạn có thể tạo ngẫu nhiên\n",
        "        send_confirmation_email(email, confirmation_code)\n",
        "        entered_code = input(\"Nhập mã xác nhận từ email: \")\n",
        "        if verify_confirmation_code(entered_code, confirmation_code):\n",
        "            new_password = getpass.getpass(\"Nhập mật khẩu: \")\n",
        "            update_password(username, new_password)\n",
        "            print(\"Mật khẩu đã được thay đổi thành công.\")\n",
        "            break\n",
        "        else:\n",
        "            print(\"Mã xác nhận không chính xác.\")\n",
        "    else:\n",
        "        print(\"Lựa chọn không hợp lệ.\")\n",
        "\n",
        "# Đóng kết nối\n",
        "conn.close()\n"
      ],
      "metadata": {
        "colab": {
          "base_uri": "https://localhost:8080/"
        },
        "id": "qImte3QjaYsO",
        "outputId": "04fa4b68-2597-46ff-f758-96751c2bad35"
      },
      "execution_count": null,
      "outputs": [
        {
          "output_type": "stream",
          "name": "stdout",
          "text": [
            "Bạn muốn đăng nhập (đ) hay yêu cầu mã xác nhận (m)? m\n",
            "Nhập tên tài khoản cần thay đổithaoquyen\n",
            "Nhập địa chỉ email của bạn: thaoquyentqtq1204@gmail.com\n",
            "Mã xác nhận đã được gửi đến địa chỉ email của bạn.\n",
            "Nhập mã xác nhận từ email: fhoZPv\n",
            "Nhập mật khẩu mới: nnnn\n",
            "Mật khẩu đã được cập nhật thành công.\n",
            "Mật khẩu đã được thay đổi thành công.\n"
          ]
        }
      ]
    },
    {
      "cell_type": "code",
      "source": [
        "import sqlite3\n",
        "import blake3\n",
        "import getpass\n",
        "\n",
        "# Kết nối đến cơ sở dữ liệu SQLite\n",
        "conn = sqlite3.connect('/content/drive/MyDrive/db/Blake3.db')\n",
        "cur = conn.cursor()\n",
        "\n",
        "# Hàm băm mật khẩu bằng Blake3\n",
        "def hash_password(password):\n",
        "    return blake3.blake3(password.encode()).hexdigest()\n",
        "\n",
        "# Hàm xác minh tên người dùng và mật khẩu từ cơ sở dữ liệu\n",
        "def authenticate(username, password):\n",
        "    cur.execute(\"SELECT * FROM TaiKhoan WHERE UserName=? AND Password=?\", (username, hash_password(password)))\n",
        "    return cur.fetchone()\n",
        "\n",
        "# Hàm truy vấn thông tin sinh viên từ cơ sở dữ liệu\n",
        "def get_student_info(student_id):\n",
        "    cur.execute(\"SELECT * FROM Student WHERE StudentId=?\", (student_id,))\n",
        "    return cur.fetchone()\n",
        "\n",
        "# Đăng nhập\n",
        "while True:\n",
        "    username = input(\"Nhập tên người dùng: \")\n",
        "    password = getpass.getpass(\"Nhập mật khẩu: \")\n",
        "\n",
        "    user = authenticate(username, password)\n",
        "    if user:\n",
        "        print(\"Đăng nhập thành công!\")\n",
        "        student_id = user[2]  # Lấy mã sinh viên từ thông tin tài khoản đã đăng nhập\n",
        "        student_info = get_student_info(student_id)\n",
        "        print(\"Thông tin sinh viên:\")\n",
        "        print(\"Mã sinh viên:\", student_info[0])\n",
        "        print(\"Họ và tên đệm:\", student_info[1])\n",
        "        print(\"Tên:\", student_info[2])\n",
        "        print(\"Email:\", student_info[3])\n",
        "        print(\"Giới tính:\", \"Nam\" if student_info[4] == 1 else \"Nữ\")\n",
        "        print(\"Điểm:\", student_info[5])\n",
        "        break\n",
        "    else:\n",
        "        print(\"Tên người dùng hoặc mật khẩu không chính xác.\")\n",
        "\n",
        "# Đóng kết nối\n",
        "conn.close()\n"
      ],
      "metadata": {
        "colab": {
          "base_uri": "https://localhost:8080/"
        },
        "id": "xrU1S9q30DJX",
        "outputId": "f7aeb76b-87c2-4bed-c15a-b07bfa1f4a0c"
      },
      "execution_count": null,
      "outputs": [
        {
          "output_type": "stream",
          "name": "stdout",
          "text": [
            "Nhập tên người dùng: thaoquyen\n",
            "Nhập mật khẩu: nnnn\n",
            "Đăng nhập thành công!\n",
            "Thông tin sinh viên:\n",
            "Mã sinh viên: S001\n",
            "Họ và tên đệm: CNPM1\n",
            "Tên: Nguyễn Lê Thảo\n",
            "Email: Quyên\n",
            "Giới tính: Nữ\n",
            "Điểm: 0\n"
          ]
        }
      ]
    },
    {
      "cell_type": "code",
      "source": [
        "import sqlite3\n",
        "\n",
        "# Kết nối đến cơ sở dữ liệu SQLite\n",
        "conn = sqlite3.connect('/content/drive/MyDrive/db/Blake3.db')\n",
        "\n",
        "# Tạo con trỏ đến cơ sở dữ liệu\n",
        "cur = conn.cursor()\n",
        "\n",
        "# Truy vấn dữ liệu từ bảng Class\n",
        "cur.execute(\"SELECT * FROM Class\")\n",
        "class_data = cur.fetchall()\n",
        "\n",
        "# In dữ liệu từ bảng Class\n",
        "print(\"Dữ liệu từ bảng Class:\")\n",
        "for row in class_data:\n",
        "    print(row)\n",
        "\n",
        "# Truy vấn dữ liệu từ bảng Student\n",
        "cur.execute(\"SELECT * FROM Student\")\n",
        "student_data = cur.fetchall()\n",
        "\n",
        "# In dữ liệu từ bảng Student\n",
        "print(\"\\nDữ liệu từ bảng Student:\")\n",
        "for row in student_data:\n",
        "    print(row)\n",
        "\n",
        "# Truy vấn dữ liệu từ bảng Student\n",
        "cur.execute(\"SELECT * FROM TaiKhoan\")\n",
        "taikhoan_data = cur.fetchall()\n",
        "\n",
        "# In dữ liệu từ bảng Student\n",
        "print(\"\\nDữ liệu từ bảng tài khoản:\")\n",
        "for row in taikhoan_data:\n",
        "    print(row)\n",
        "\n",
        "# Đóng kết nối\n",
        "conn.close()\n"
      ],
      "metadata": {
        "colab": {
          "base_uri": "https://localhost:8080/"
        },
        "id": "K_aP0gAN0J0Y",
        "outputId": "4b0a30f1-2c4a-46aa-9d3c-5ee15bf936f5"
      },
      "execution_count": null,
      "outputs": [
        {
          "output_type": "stream",
          "name": "stdout",
          "text": [
            "Dữ liệu từ bảng Class:\n",
            "('CNPM1', 'Công nghệ phần mềm 1')\n",
            "('CNPM2', 'Công nghệ phần mềm 2')\n",
            "('CNPM3', 'Công nghệ phần mềm 3')\n",
            "\n",
            "Dữ liệu từ bảng Student:\n",
            "('S001', 'CNPM1', 'Nguyễn Lê Thảo', 'Quyên', 'quyen@gmail.com', 0, 85.0)\n",
            "('S002', 'CNPM2', 'Nguyễn Lê Thảo', 'MiChu', 'michu@example.com', 0, 92.0)\n",
            "('S003', 'CNPM1', 'Mai', 'Nam', 'nam@gmail.com', 1, 49.0)\n",
            "\n",
            "Dữ liệu từ bảng tài khoản:\n",
            "('thaoquyen', '5fefc184d3f09a624d6648f43dec51099d3e42536b426f507ac98c32076bb838', 'S001')\n"
          ]
        }
      ]
    },
    {
      "cell_type": "code",
      "source": [
        "!pip install pyblake2"
      ],
      "metadata": {
        "colab": {
          "base_uri": "https://localhost:8080/"
        },
        "id": "CXrePAi9vfpx",
        "outputId": "8cd78927-063e-41f9-b3ce-392b1c563bb7"
      },
      "execution_count": null,
      "outputs": [
        {
          "output_type": "stream",
          "name": "stdout",
          "text": [
            "Collecting pyblake2\n",
            "  Downloading pyblake2-1.1.2.tar.gz (126 kB)\n",
            "\u001b[2K     \u001b[90m━━━━━━━━━━━━━━━━━━━━━━━━━━━━━━━━━━━━━━━━\u001b[0m \u001b[32m126.7/126.7 kB\u001b[0m \u001b[31m2.9 MB/s\u001b[0m eta \u001b[36m0:00:00\u001b[0m\n",
            "\u001b[?25h  Preparing metadata (setup.py) ... \u001b[?25l\u001b[?25hdone\n",
            "Building wheels for collected packages: pyblake2\n",
            "  Building wheel for pyblake2 (setup.py) ... \u001b[?25l\u001b[?25hdone\n",
            "  Created wheel for pyblake2: filename=pyblake2-1.1.2-cp310-cp310-linux_x86_64.whl size=76710 sha256=1fb887ecffae0bd29202c88ac1f9851617bec78d94888563e43bb90e89f199df\n",
            "  Stored in directory: /root/.cache/pip/wheels/de/b1/a4/bcfd8c6d049279083d0ef58e7750ec7a63a16511bc24544d8b\n",
            "Successfully built pyblake2\n",
            "Installing collected packages: pyblake2\n",
            "Successfully installed pyblake2-1.1.2\n"
          ]
        }
      ]
    },
    {
      "cell_type": "code",
      "source": [
        "import blake3\n",
        "import pyblake2\n",
        "\n",
        "def hash_blake(input_string, algorithm):\n",
        "    if algorithm == 'blake2':\n",
        "        return pyblake2.blake2s(input_string.encode()).hexdigest()\n",
        "    elif algorithm == 'blake3':\n",
        "        return blake3.blake3(input_string.encode()).hexdigest()  # Sử dụng hàm blake3_hash()\n",
        "    else:\n",
        "        return \"Invalid algorithm\"\n",
        "\n",
        "# Nhập chuỗi cần băm và thuật toán từ người dùng\n",
        "input_string = input(\"Nhập chuỗi cần băm: \")\n",
        "\n",
        "# Băm chuỗi với thuật toán blake2\n",
        "hashed_value_blake2 = hash_blake(input_string, 'blake2')\n",
        "\n",
        "# Băm chuỗi với thuật toán blake3\n",
        "hashed_value_blake3 = hash_blake(input_string, 'blake3')\n",
        "\n",
        "# In ra kết quả\n",
        "print(f\"Blake2 hash của '{input_string}': {hashed_value_blake2}\")\n",
        "print(f\"Blake3 hash của '{input_string}': {hashed_value_blake3}\")\n"
      ],
      "metadata": {
        "colab": {
          "base_uri": "https://localhost:8080/"
        },
        "id": "6JoYqIJ1uzqQ",
        "outputId": "e75843e7-7f4c-4f48-cb74-473d2fbd2fba"
      },
      "execution_count": null,
      "outputs": [
        {
          "output_type": "stream",
          "name": "stdout",
          "text": [
            "Nhập chuỗi cần băm: nnnn\n",
            "Blake2 hash của 'nnnn': 259719c9a78f0577d9bc957713bdc72410cd66b10a6c5685bbe1e5de85798c31\n",
            "Blake3 hash của 'nnnn': 5fefc184d3f09a624d6648f43dec51099d3e42536b426f507ac98c32076bb838\n"
          ]
        }
      ]
    }
  ]
}